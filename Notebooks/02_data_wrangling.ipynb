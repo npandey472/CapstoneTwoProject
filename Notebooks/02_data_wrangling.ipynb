{
 "cells": [
  {
   "cell_type": "code",
   "execution_count": null,
   "id": "04b4a91b-c1a1-49f7-9c9c-b4abad4a485a",
   "metadata": {},
   "outputs": [],
   "source": [
    "#Capstone Project - TWO\n",
    "#House Price Prediction"
   ]
  },
  {
   "cell_type": "code",
   "execution_count": 1,
   "id": "2c8b1863-2114-44c2-90ad-0b6c71da7c18",
   "metadata": {},
   "outputs": [],
   "source": [
    "#Import pandas, matplotlib.pyplot, and seaborn\n",
    "#Importing python libraries, pandas, latplotlib, seaborn\n",
    "import pandas as pd\n",
    "import matplotlib.pyplot as plt\n",
    "import seaborn as sns\n",
    "import os\n",
    "from library.sb_utils import save_file"
   ]
  },
  {
   "cell_type": "code",
   "execution_count": null,
   "id": "0b8fc09e-613f-4ff1-9024-ec7a98e4283f",
   "metadata": {},
   "outputs": [],
   "source": [
    "#Load The Housing Data"
   ]
  },
  {
   "cell_type": "code",
   "execution_count": 2,
   "id": "f4d5d126-ef84-4f69-a1da-53a27211eb3f",
   "metadata": {},
   "outputs": [],
   "source": [
    "#Loading the data file for this project from raw_data directory\n",
    "housing_data = pd.read_excel('../raw_data/HousePricePrediction.xlsx')"
   ]
  },
  {
   "cell_type": "code",
   "execution_count": 3,
   "id": "c0b392d9-0ccd-4051-8b1f-f7c6acca4489",
   "metadata": {},
   "outputs": [
    {
     "data": {
      "text/plain": [
       "<bound method DataFrame.info of         Id  MSSubClass MSZoning  LotArea LotConfig BldgType  OverallCond  \\\n",
       "0        0          60       RL     8450    Inside     1Fam            5   \n",
       "1        1          20       RL     9600       FR2     1Fam            8   \n",
       "2        2          60       RL    11250    Inside     1Fam            5   \n",
       "3        3          70       RL     9550    Corner     1Fam            5   \n",
       "4        4          60       RL    14260       FR2     1Fam            5   \n",
       "...    ...         ...      ...      ...       ...      ...          ...   \n",
       "2914  2914         160       RM     1936    Inside    Twnhs            7   \n",
       "2915  2915         160       RM     1894    Inside   TwnhsE            5   \n",
       "2916  2916          20       RL    20000    Inside     1Fam            7   \n",
       "2917  2917          85       RL    10441    Inside     1Fam            5   \n",
       "2918  2918          60       RL     9627    Inside     1Fam            5   \n",
       "\n",
       "      YearBuilt  YearRemodAdd Exterior1st  BsmtFinSF2  TotalBsmtSF  SalePrice  \n",
       "0          2003          2003     VinylSd         0.0        856.0   208500.0  \n",
       "1          1976          1976     MetalSd         0.0       1262.0   181500.0  \n",
       "2          2001          2002     VinylSd         0.0        920.0   223500.0  \n",
       "3          1915          1970     Wd Sdng         0.0        756.0   140000.0  \n",
       "4          2000          2000     VinylSd         0.0       1145.0   250000.0  \n",
       "...         ...           ...         ...         ...          ...        ...  \n",
       "2914       1970          1970     CemntBd         0.0        546.0        NaN  \n",
       "2915       1970          1970     CemntBd         0.0        546.0        NaN  \n",
       "2916       1960          1996     VinylSd         0.0       1224.0        NaN  \n",
       "2917       1992          1992     HdBoard         0.0        912.0        NaN  \n",
       "2918       1993          1994     HdBoard         0.0        996.0        NaN  \n",
       "\n",
       "[2919 rows x 13 columns]>"
      ]
     },
     "execution_count": 3,
     "metadata": {},
     "output_type": "execute_result"
    }
   ],
   "source": [
    "#Calling the info method on housing_data to see a summary of the data\n",
    "housing_data.info"
   ]
  },
  {
   "cell_type": "code",
   "execution_count": null,
   "id": "3a67f064-d269-497f-bf01-0420a2f2b0c2",
   "metadata": {},
   "outputs": [],
   "source": [
    "#'SalePrice' column is the data of the housing sale price for this data set mentioned in dollar amount. Some rows have missing data for this."
   ]
  },
  {
   "cell_type": "code",
   "execution_count": 4,
   "id": "327d5bed-c2d0-4621-918c-68c419c4ca0a",
   "metadata": {},
   "outputs": [
    {
     "data": {
      "text/html": [
       "<div>\n",
       "<style scoped>\n",
       "    .dataframe tbody tr th:only-of-type {\n",
       "        vertical-align: middle;\n",
       "    }\n",
       "\n",
       "    .dataframe tbody tr th {\n",
       "        vertical-align: top;\n",
       "    }\n",
       "\n",
       "    .dataframe thead th {\n",
       "        text-align: right;\n",
       "    }\n",
       "</style>\n",
       "<table border=\"1\" class=\"dataframe\">\n",
       "  <thead>\n",
       "    <tr style=\"text-align: right;\">\n",
       "      <th></th>\n",
       "      <th>Id</th>\n",
       "      <th>MSSubClass</th>\n",
       "      <th>MSZoning</th>\n",
       "      <th>LotArea</th>\n",
       "      <th>LotConfig</th>\n",
       "      <th>BldgType</th>\n",
       "      <th>OverallCond</th>\n",
       "      <th>YearBuilt</th>\n",
       "      <th>YearRemodAdd</th>\n",
       "      <th>Exterior1st</th>\n",
       "      <th>BsmtFinSF2</th>\n",
       "      <th>TotalBsmtSF</th>\n",
       "      <th>SalePrice</th>\n",
       "    </tr>\n",
       "  </thead>\n",
       "  <tbody>\n",
       "    <tr>\n",
       "      <th>0</th>\n",
       "      <td>0</td>\n",
       "      <td>60</td>\n",
       "      <td>RL</td>\n",
       "      <td>8450</td>\n",
       "      <td>Inside</td>\n",
       "      <td>1Fam</td>\n",
       "      <td>5</td>\n",
       "      <td>2003</td>\n",
       "      <td>2003</td>\n",
       "      <td>VinylSd</td>\n",
       "      <td>0.0</td>\n",
       "      <td>856.0</td>\n",
       "      <td>208500.0</td>\n",
       "    </tr>\n",
       "    <tr>\n",
       "      <th>1</th>\n",
       "      <td>1</td>\n",
       "      <td>20</td>\n",
       "      <td>RL</td>\n",
       "      <td>9600</td>\n",
       "      <td>FR2</td>\n",
       "      <td>1Fam</td>\n",
       "      <td>8</td>\n",
       "      <td>1976</td>\n",
       "      <td>1976</td>\n",
       "      <td>MetalSd</td>\n",
       "      <td>0.0</td>\n",
       "      <td>1262.0</td>\n",
       "      <td>181500.0</td>\n",
       "    </tr>\n",
       "    <tr>\n",
       "      <th>2</th>\n",
       "      <td>2</td>\n",
       "      <td>60</td>\n",
       "      <td>RL</td>\n",
       "      <td>11250</td>\n",
       "      <td>Inside</td>\n",
       "      <td>1Fam</td>\n",
       "      <td>5</td>\n",
       "      <td>2001</td>\n",
       "      <td>2002</td>\n",
       "      <td>VinylSd</td>\n",
       "      <td>0.0</td>\n",
       "      <td>920.0</td>\n",
       "      <td>223500.0</td>\n",
       "    </tr>\n",
       "    <tr>\n",
       "      <th>3</th>\n",
       "      <td>3</td>\n",
       "      <td>70</td>\n",
       "      <td>RL</td>\n",
       "      <td>9550</td>\n",
       "      <td>Corner</td>\n",
       "      <td>1Fam</td>\n",
       "      <td>5</td>\n",
       "      <td>1915</td>\n",
       "      <td>1970</td>\n",
       "      <td>Wd Sdng</td>\n",
       "      <td>0.0</td>\n",
       "      <td>756.0</td>\n",
       "      <td>140000.0</td>\n",
       "    </tr>\n",
       "    <tr>\n",
       "      <th>4</th>\n",
       "      <td>4</td>\n",
       "      <td>60</td>\n",
       "      <td>RL</td>\n",
       "      <td>14260</td>\n",
       "      <td>FR2</td>\n",
       "      <td>1Fam</td>\n",
       "      <td>5</td>\n",
       "      <td>2000</td>\n",
       "      <td>2000</td>\n",
       "      <td>VinylSd</td>\n",
       "      <td>0.0</td>\n",
       "      <td>1145.0</td>\n",
       "      <td>250000.0</td>\n",
       "    </tr>\n",
       "  </tbody>\n",
       "</table>\n",
       "</div>"
      ],
      "text/plain": [
       "   Id  MSSubClass MSZoning  LotArea LotConfig BldgType  OverallCond  \\\n",
       "0   0          60       RL     8450    Inside     1Fam            5   \n",
       "1   1          20       RL     9600       FR2     1Fam            8   \n",
       "2   2          60       RL    11250    Inside     1Fam            5   \n",
       "3   3          70       RL     9550    Corner     1Fam            5   \n",
       "4   4          60       RL    14260       FR2     1Fam            5   \n",
       "\n",
       "   YearBuilt  YearRemodAdd Exterior1st  BsmtFinSF2  TotalBsmtSF  SalePrice  \n",
       "0       2003          2003     VinylSd         0.0        856.0   208500.0  \n",
       "1       1976          1976     MetalSd         0.0       1262.0   181500.0  \n",
       "2       2001          2002     VinylSd         0.0        920.0   223500.0  \n",
       "3       1915          1970     Wd Sdng         0.0        756.0   140000.0  \n",
       "4       2000          2000     VinylSd         0.0       1145.0   250000.0  "
      ]
     },
     "execution_count": 4,
     "metadata": {},
     "output_type": "execute_result"
    }
   ],
   "source": [
    "#Calling the head method on housing_data to print the first several rows of the data\n",
    "#Checking the first 5 rows of data for 'housing_data' to get idea about the data.\n",
    "housing_data.head()"
   ]
  },
  {
   "cell_type": "code",
   "execution_count": null,
   "id": "bfbf87fc-003f-482d-9fc0-c7b66f0f9ee3",
   "metadata": {},
   "outputs": [],
   "source": [
    "#'BsmtFinSF2' values are 0.0"
   ]
  },
  {
   "cell_type": "code",
   "execution_count": null,
   "id": "69409967-b7c7-42c1-99d2-2c67073e7ed4",
   "metadata": {},
   "outputs": [],
   "source": [
    "#Explore The Data"
   ]
  },
  {
   "cell_type": "code",
   "execution_count": 5,
   "id": "a969c491-76a1-4f8e-95a8-606811b3da9d",
   "metadata": {},
   "outputs": [
    {
     "data": {
      "text/plain": [
       "(2919, 13)"
      ]
     },
     "execution_count": 5,
     "metadata": {},
     "output_type": "execute_result"
    }
   ],
   "source": [
    "#Checking rows and columns of the dataset\n",
    "housing_data.shape"
   ]
  },
  {
   "cell_type": "code",
   "execution_count": 6,
   "id": "5cdb731b-c27a-4e5f-bb62-aae3971ce7b9",
   "metadata": {},
   "outputs": [
    {
     "data": {
      "text/html": [
       "<div>\n",
       "<style scoped>\n",
       "    .dataframe tbody tr th:only-of-type {\n",
       "        vertical-align: middle;\n",
       "    }\n",
       "\n",
       "    .dataframe tbody tr th {\n",
       "        vertical-align: top;\n",
       "    }\n",
       "\n",
       "    .dataframe thead th {\n",
       "        text-align: right;\n",
       "    }\n",
       "</style>\n",
       "<table border=\"1\" class=\"dataframe\">\n",
       "  <thead>\n",
       "    <tr style=\"text-align: right;\">\n",
       "      <th></th>\n",
       "      <th>count</th>\n",
       "      <th>%</th>\n",
       "    </tr>\n",
       "  </thead>\n",
       "  <tbody>\n",
       "    <tr>\n",
       "      <th>Id</th>\n",
       "      <td>0</td>\n",
       "      <td>0.000000</td>\n",
       "    </tr>\n",
       "    <tr>\n",
       "      <th>MSSubClass</th>\n",
       "      <td>0</td>\n",
       "      <td>0.000000</td>\n",
       "    </tr>\n",
       "    <tr>\n",
       "      <th>LotArea</th>\n",
       "      <td>0</td>\n",
       "      <td>0.000000</td>\n",
       "    </tr>\n",
       "    <tr>\n",
       "      <th>LotConfig</th>\n",
       "      <td>0</td>\n",
       "      <td>0.000000</td>\n",
       "    </tr>\n",
       "    <tr>\n",
       "      <th>BldgType</th>\n",
       "      <td>0</td>\n",
       "      <td>0.000000</td>\n",
       "    </tr>\n",
       "    <tr>\n",
       "      <th>OverallCond</th>\n",
       "      <td>0</td>\n",
       "      <td>0.000000</td>\n",
       "    </tr>\n",
       "    <tr>\n",
       "      <th>YearBuilt</th>\n",
       "      <td>0</td>\n",
       "      <td>0.000000</td>\n",
       "    </tr>\n",
       "    <tr>\n",
       "      <th>YearRemodAdd</th>\n",
       "      <td>0</td>\n",
       "      <td>0.000000</td>\n",
       "    </tr>\n",
       "    <tr>\n",
       "      <th>Exterior1st</th>\n",
       "      <td>1</td>\n",
       "      <td>0.034258</td>\n",
       "    </tr>\n",
       "    <tr>\n",
       "      <th>BsmtFinSF2</th>\n",
       "      <td>1</td>\n",
       "      <td>0.034258</td>\n",
       "    </tr>\n",
       "    <tr>\n",
       "      <th>TotalBsmtSF</th>\n",
       "      <td>1</td>\n",
       "      <td>0.034258</td>\n",
       "    </tr>\n",
       "    <tr>\n",
       "      <th>MSZoning</th>\n",
       "      <td>4</td>\n",
       "      <td>0.137033</td>\n",
       "    </tr>\n",
       "    <tr>\n",
       "      <th>SalePrice</th>\n",
       "      <td>1459</td>\n",
       "      <td>49.982871</td>\n",
       "    </tr>\n",
       "  </tbody>\n",
       "</table>\n",
       "</div>"
      ],
      "text/plain": [
       "              count          %\n",
       "Id                0   0.000000\n",
       "MSSubClass        0   0.000000\n",
       "LotArea           0   0.000000\n",
       "LotConfig         0   0.000000\n",
       "BldgType          0   0.000000\n",
       "OverallCond       0   0.000000\n",
       "YearBuilt         0   0.000000\n",
       "YearRemodAdd      0   0.000000\n",
       "Exterior1st       1   0.034258\n",
       "BsmtFinSF2        1   0.034258\n",
       "TotalBsmtSF       1   0.034258\n",
       "MSZoning          4   0.137033\n",
       "SalePrice      1459  49.982871"
      ]
     },
     "execution_count": 6,
     "metadata": {},
     "output_type": "execute_result"
    }
   ],
   "source": [
    "#Number Of Missing Values By Column\n",
    "#Counting (using `.sum()`) the number of missing values (`.isnull()`) in each column of \n",
    "#housing_data as well as the percentages (using `.mean()` instead of `.sum()`).\n",
    "#Ordering them (increasing or decreasing) using sort_values\n",
    "#Calling `pd.concat` to present these in a single table (DataFrame) with the helpful column names 'count' and '%'\n",
    "\n",
    "missing = pd.concat([housing_data.isnull().sum(), 100 * housing_data.isnull().mean()], axis=1)\n",
    "missing.columns=['count', '%']\n",
    "missing.sort_values(by='count') "
   ]
  },
  {
   "cell_type": "code",
   "execution_count": 7,
   "id": "2b0b6b65-f9cd-4729-84f3-490cce572083",
   "metadata": {},
   "outputs": [],
   "source": [
    "#'Id' column wouldn't participate in prediction it seems, due to this dropping it.\n",
    "housing_data.drop(['Id'],\n",
    "             axis=1,\n",
    "             inplace=True)"
   ]
  },
  {
   "cell_type": "code",
   "execution_count": null,
   "id": "cd8a1e23-151b-4fb5-9044-c6f0f48e8bda",
   "metadata": {},
   "outputs": [],
   "source": [
    "#SalePrice column has most missing value.This is desired target quantity as well,\n",
    "#isnull() is not the only indicator of missing data. Sometimes 'missingness' can be encoded, perhaps by a -1 or 999.\n",
    "#Such values are typically chosen because they are \"obviously\" not genuine values. "
   ]
  },
  {
   "cell_type": "code",
   "execution_count": 8,
   "id": "d054e06f-55a0-4136-80e7-767d35a26b33",
   "metadata": {},
   "outputs": [],
   "source": [
    "#Replacing SalesPrice empty values with their mean values,\n",
    "housing_data['SalePrice'] = housing_data['SalePrice'].fillna(\n",
    "  housing_data['SalePrice'].mean())"
   ]
  },
  {
   "cell_type": "code",
   "execution_count": 9,
   "id": "72a1ce84-c2cc-4ba5-a54d-bc6ba0fc60be",
   "metadata": {},
   "outputs": [],
   "source": [
    "#Since there are very few empty records, dropping those.\n",
    "new_housing_data = housing_data.dropna()"
   ]
  },
  {
   "cell_type": "code",
   "execution_count": 10,
   "id": "cba7d883-8446-476e-b476-44fbd88c0847",
   "metadata": {},
   "outputs": [
    {
     "data": {
      "text/plain": [
       "MSSubClass      0\n",
       "MSZoning        0\n",
       "LotArea         0\n",
       "LotConfig       0\n",
       "BldgType        0\n",
       "OverallCond     0\n",
       "YearBuilt       0\n",
       "YearRemodAdd    0\n",
       "Exterior1st     0\n",
       "BsmtFinSF2      0\n",
       "TotalBsmtSF     0\n",
       "SalePrice       0\n",
       "dtype: int64"
      ]
     },
     "execution_count": 10,
     "metadata": {},
     "output_type": "execute_result"
    }
   ],
   "source": [
    "#Checking which records still ahve null values.\n",
    "new_housing_data.isnull().sum()\n"
   ]
  },
  {
   "cell_type": "code",
   "execution_count": null,
   "id": "4fdc8593-9446-4f6d-8dee-caf272af210f",
   "metadata": {},
   "outputs": [],
   "source": [
    "#Categorical Features"
   ]
  },
  {
   "cell_type": "code",
   "execution_count": 11,
   "id": "196444e8-c6bc-4e46-b6ed-b8d33e7b5673",
   "metadata": {},
   "outputs": [
    {
     "data": {
      "text/html": [
       "<div>\n",
       "<style scoped>\n",
       "    .dataframe tbody tr th:only-of-type {\n",
       "        vertical-align: middle;\n",
       "    }\n",
       "\n",
       "    .dataframe tbody tr th {\n",
       "        vertical-align: top;\n",
       "    }\n",
       "\n",
       "    .dataframe thead th {\n",
       "        text-align: right;\n",
       "    }\n",
       "</style>\n",
       "<table border=\"1\" class=\"dataframe\">\n",
       "  <thead>\n",
       "    <tr style=\"text-align: right;\">\n",
       "      <th></th>\n",
       "      <th>MSZoning</th>\n",
       "      <th>LotConfig</th>\n",
       "      <th>BldgType</th>\n",
       "      <th>Exterior1st</th>\n",
       "    </tr>\n",
       "  </thead>\n",
       "  <tbody>\n",
       "    <tr>\n",
       "      <th>0</th>\n",
       "      <td>RL</td>\n",
       "      <td>Inside</td>\n",
       "      <td>1Fam</td>\n",
       "      <td>VinylSd</td>\n",
       "    </tr>\n",
       "    <tr>\n",
       "      <th>1</th>\n",
       "      <td>RL</td>\n",
       "      <td>FR2</td>\n",
       "      <td>1Fam</td>\n",
       "      <td>MetalSd</td>\n",
       "    </tr>\n",
       "    <tr>\n",
       "      <th>2</th>\n",
       "      <td>RL</td>\n",
       "      <td>Inside</td>\n",
       "      <td>1Fam</td>\n",
       "      <td>VinylSd</td>\n",
       "    </tr>\n",
       "    <tr>\n",
       "      <th>3</th>\n",
       "      <td>RL</td>\n",
       "      <td>Corner</td>\n",
       "      <td>1Fam</td>\n",
       "      <td>Wd Sdng</td>\n",
       "    </tr>\n",
       "    <tr>\n",
       "      <th>4</th>\n",
       "      <td>RL</td>\n",
       "      <td>FR2</td>\n",
       "      <td>1Fam</td>\n",
       "      <td>VinylSd</td>\n",
       "    </tr>\n",
       "    <tr>\n",
       "      <th>...</th>\n",
       "      <td>...</td>\n",
       "      <td>...</td>\n",
       "      <td>...</td>\n",
       "      <td>...</td>\n",
       "    </tr>\n",
       "    <tr>\n",
       "      <th>2914</th>\n",
       "      <td>RM</td>\n",
       "      <td>Inside</td>\n",
       "      <td>Twnhs</td>\n",
       "      <td>CemntBd</td>\n",
       "    </tr>\n",
       "    <tr>\n",
       "      <th>2915</th>\n",
       "      <td>RM</td>\n",
       "      <td>Inside</td>\n",
       "      <td>TwnhsE</td>\n",
       "      <td>CemntBd</td>\n",
       "    </tr>\n",
       "    <tr>\n",
       "      <th>2916</th>\n",
       "      <td>RL</td>\n",
       "      <td>Inside</td>\n",
       "      <td>1Fam</td>\n",
       "      <td>VinylSd</td>\n",
       "    </tr>\n",
       "    <tr>\n",
       "      <th>2917</th>\n",
       "      <td>RL</td>\n",
       "      <td>Inside</td>\n",
       "      <td>1Fam</td>\n",
       "      <td>HdBoard</td>\n",
       "    </tr>\n",
       "    <tr>\n",
       "      <th>2918</th>\n",
       "      <td>RL</td>\n",
       "      <td>Inside</td>\n",
       "      <td>1Fam</td>\n",
       "      <td>HdBoard</td>\n",
       "    </tr>\n",
       "  </tbody>\n",
       "</table>\n",
       "<p>2913 rows × 4 columns</p>\n",
       "</div>"
      ],
      "text/plain": [
       "     MSZoning LotConfig BldgType Exterior1st\n",
       "0          RL    Inside     1Fam     VinylSd\n",
       "1          RL       FR2     1Fam     MetalSd\n",
       "2          RL    Inside     1Fam     VinylSd\n",
       "3          RL    Corner     1Fam     Wd Sdng\n",
       "4          RL       FR2     1Fam     VinylSd\n",
       "...       ...       ...      ...         ...\n",
       "2914       RM    Inside    Twnhs     CemntBd\n",
       "2915       RM    Inside   TwnhsE     CemntBd\n",
       "2916       RL    Inside     1Fam     VinylSd\n",
       "2917       RL    Inside     1Fam     HdBoard\n",
       "2918       RL    Inside     1Fam     HdBoard\n",
       "\n",
       "[2913 rows x 4 columns]"
      ]
     },
     "execution_count": 11,
     "metadata": {},
     "output_type": "execute_result"
    }
   ],
   "source": [
    "#Use housing_data's `select_dtypes` method to select columns of dtype 'object'\n",
    "new_housing_data.select_dtypes(include='object')"
   ]
  },
  {
   "cell_type": "code",
   "execution_count": 12,
   "id": "cb64c211-797d-4a21-933c-e9a882e70c0a",
   "metadata": {},
   "outputs": [
    {
     "data": {
      "text/plain": [
       "MSZoning\n",
       "RL         2264\n",
       "RM          459\n",
       "FV          139\n",
       "RH           26\n",
       "C (all)      25\n",
       "Name: count, dtype: int64"
      ]
     },
     "execution_count": 12,
     "metadata": {},
     "output_type": "execute_result"
    }
   ],
   "source": [
    "#Use pandas' Series method `value_counts` to find any duplicated MSZoning\n",
    "new_housing_data['MSZoning'].value_counts().head()"
   ]
  },
  {
   "cell_type": "code",
   "execution_count": null,
   "id": "86f1355b-5fb0-4ffe-9ad6-88e925d5088e",
   "metadata": {},
   "outputs": [],
   "source": [
    "#Categorical data from colums 'MSZoning', 'LotConfig', 'BldgType', 'Exterior1st' does not need to be unique."
   ]
  },
  {
   "cell_type": "code",
   "execution_count": 13,
   "id": "88cab49e-6289-4115-9e02-309e1d593dff",
   "metadata": {},
   "outputs": [
    {
     "data": {
      "text/plain": [
       "(2913, 12)"
      ]
     },
     "execution_count": 13,
     "metadata": {},
     "output_type": "execute_result"
    }
   ],
   "source": [
    "#Checking shape of new_housing_data\n",
    "new_housing_data.shape"
   ]
  },
  {
   "cell_type": "code",
   "execution_count": null,
   "id": "b79e4e3e-827a-4b39-89dd-938c3e77421e",
   "metadata": {},
   "outputs": [],
   "source": [
    "#Intial data file has (2919, 13). 6 rows have been removed and 1 column from intial data file(housing_data). \n",
    "#New data file(new_housing_data has rows and columns (2913, 12)."
   ]
  },
  {
   "cell_type": "code",
   "execution_count": 14,
   "id": "f54f8b2f-f871-4538-a001-d77ec19fb3a8",
   "metadata": {},
   "outputs": [
    {
     "data": {
      "text/html": [
       "<div>\n",
       "<style scoped>\n",
       "    .dataframe tbody tr th:only-of-type {\n",
       "        vertical-align: middle;\n",
       "    }\n",
       "\n",
       "    .dataframe tbody tr th {\n",
       "        vertical-align: top;\n",
       "    }\n",
       "\n",
       "    .dataframe thead th {\n",
       "        text-align: right;\n",
       "    }\n",
       "</style>\n",
       "<table border=\"1\" class=\"dataframe\">\n",
       "  <thead>\n",
       "    <tr style=\"text-align: right;\">\n",
       "      <th></th>\n",
       "      <th>SalePrice</th>\n",
       "    </tr>\n",
       "    <tr>\n",
       "      <th>MSZoning</th>\n",
       "      <th></th>\n",
       "    </tr>\n",
       "  </thead>\n",
       "  <tbody>\n",
       "    <tr>\n",
       "      <th>C (all)</th>\n",
       "      <td>138363.917534</td>\n",
       "    </tr>\n",
       "    <tr>\n",
       "      <th>FV</th>\n",
       "      <td>196396.276949</td>\n",
       "    </tr>\n",
       "    <tr>\n",
       "      <th>RH</th>\n",
       "      <td>150544.075342</td>\n",
       "    </tr>\n",
       "    <tr>\n",
       "      <th>RL</th>\n",
       "      <td>186047.720860</td>\n",
       "    </tr>\n",
       "    <tr>\n",
       "      <th>RM</th>\n",
       "      <td>154987.096317</td>\n",
       "    </tr>\n",
       "  </tbody>\n",
       "</table>\n",
       "</div>"
      ],
      "text/plain": [
       "              SalePrice\n",
       "MSZoning               \n",
       "C (all)   138363.917534\n",
       "FV        196396.276949\n",
       "RH        150544.075342\n",
       "RL        186047.720860\n",
       "RM        154987.096317"
      ]
     },
     "execution_count": 14,
     "metadata": {},
     "output_type": "execute_result"
    }
   ],
   "source": [
    "# Calculate average sale price by 'MSZoning' and sort by the average\n",
    "zone_price_means = new_housing_data.groupby('MSZoning')[['SalePrice']].mean()\n",
    "zone_price_means.head()"
   ]
  },
  {
   "cell_type": "code",
   "execution_count": 15,
   "id": "bd3f0b67-08b5-4853-8767-2c410d225b68",
   "metadata": {},
   "outputs": [
    {
     "data": {
      "image/png": "[encoded data removed]",
      "text/plain": [
       "<Figure size 1500x1200 with 1 Axes>"
      ]
     },
     "metadata": {},
     "output_type": "display_data"
    }
   ],
   "source": [
    "#Creating a seaborn boxplot of the sale price dataframe we created above,\n",
    "#with 'MSZoning' on the x-axis, 'SalePrice' as the y-value, and a hue that indicates 'SalePrice'\n",
    "#This will use boxplot's x, y, hue, and data arguments.\n",
    "plt.subplots(figsize=(15, 12))\n",
    "sns.boxplot(x='MSZoning', y='SalePrice', hue='SalePrice', data=new_housing_data)\n",
    "plt.xticks(rotation='vertical')\n",
    "plt.ylabel('SalePrice ($)')\n",
    "plt.xlabel('MSZoning');"
   ]
  },
  {
   "cell_type": "code",
   "execution_count": null,
   "id": "9adc1d91-811d-4e1e-b859-19ce822e2895",
   "metadata": {},
   "outputs": [],
   "source": [
    "#Numeric Features"
   ]
  },
  {
   "cell_type": "code",
   "execution_count": 16,
   "id": "44b98bbd-7454-47e5-a49c-1153a7f8d723",
   "metadata": {},
   "outputs": [
    {
     "data": {
      "text/html": [
       "<div>\n",
       "<style scoped>\n",
       "    .dataframe tbody tr th:only-of-type {\n",
       "        vertical-align: middle;\n",
       "    }\n",
       "\n",
       "    .dataframe tbody tr th {\n",
       "        vertical-align: top;\n",
       "    }\n",
       "\n",
       "    .dataframe thead th {\n",
       "        text-align: right;\n",
       "    }\n",
       "</style>\n",
       "<table border=\"1\" class=\"dataframe\">\n",
       "  <thead>\n",
       "    <tr style=\"text-align: right;\">\n",
       "      <th></th>\n",
       "      <th>count</th>\n",
       "      <th>mean</th>\n",
       "      <th>std</th>\n",
       "      <th>min</th>\n",
       "      <th>25%</th>\n",
       "      <th>50%</th>\n",
       "      <th>75%</th>\n",
       "      <th>max</th>\n",
       "    </tr>\n",
       "  </thead>\n",
       "  <tbody>\n",
       "    <tr>\n",
       "      <th>MSSubClass</th>\n",
       "      <td>2913.0</td>\n",
       "      <td>57.190182</td>\n",
       "      <td>42.538067</td>\n",
       "      <td>20.0</td>\n",
       "      <td>20.0</td>\n",
       "      <td>50.00000</td>\n",
       "      <td>70.00000</td>\n",
       "      <td>190.0</td>\n",
       "    </tr>\n",
       "    <tr>\n",
       "      <th>LotArea</th>\n",
       "      <td>2913.0</td>\n",
       "      <td>10137.665980</td>\n",
       "      <td>7832.598853</td>\n",
       "      <td>1300.0</td>\n",
       "      <td>7476.0</td>\n",
       "      <td>9450.00000</td>\n",
       "      <td>11553.00000</td>\n",
       "      <td>215245.0</td>\n",
       "    </tr>\n",
       "    <tr>\n",
       "      <th>OverallCond</th>\n",
       "      <td>2913.0</td>\n",
       "      <td>5.566770</td>\n",
       "      <td>1.108977</td>\n",
       "      <td>1.0</td>\n",
       "      <td>5.0</td>\n",
       "      <td>5.00000</td>\n",
       "      <td>6.00000</td>\n",
       "      <td>9.0</td>\n",
       "    </tr>\n",
       "    <tr>\n",
       "      <th>YearBuilt</th>\n",
       "      <td>2913.0</td>\n",
       "      <td>1971.391349</td>\n",
       "      <td>30.258751</td>\n",
       "      <td>1872.0</td>\n",
       "      <td>1954.0</td>\n",
       "      <td>1973.00000</td>\n",
       "      <td>2001.00000</td>\n",
       "      <td>2010.0</td>\n",
       "    </tr>\n",
       "    <tr>\n",
       "      <th>YearRemodAdd</th>\n",
       "      <td>2913.0</td>\n",
       "      <td>1984.314452</td>\n",
       "      <td>20.864950</td>\n",
       "      <td>1950.0</td>\n",
       "      <td>1965.0</td>\n",
       "      <td>1993.00000</td>\n",
       "      <td>2004.00000</td>\n",
       "      <td>2010.0</td>\n",
       "    </tr>\n",
       "    <tr>\n",
       "      <th>BsmtFinSF2</th>\n",
       "      <td>2913.0</td>\n",
       "      <td>49.667353</td>\n",
       "      <td>169.338330</td>\n",
       "      <td>0.0</td>\n",
       "      <td>0.0</td>\n",
       "      <td>0.00000</td>\n",
       "      <td>0.00000</td>\n",
       "      <td>1526.0</td>\n",
       "    </tr>\n",
       "    <tr>\n",
       "      <th>TotalBsmtSF</th>\n",
       "      <td>2913.0</td>\n",
       "      <td>1052.805012</td>\n",
       "      <td>439.688510</td>\n",
       "      <td>0.0</td>\n",
       "      <td>793.0</td>\n",
       "      <td>990.00000</td>\n",
       "      <td>1302.00000</td>\n",
       "      <td>6110.0</td>\n",
       "    </tr>\n",
       "    <tr>\n",
       "      <th>SalePrice</th>\n",
       "      <td>2913.0</td>\n",
       "      <td>180921.195890</td>\n",
       "      <td>56232.174632</td>\n",
       "      <td>34900.0</td>\n",
       "      <td>163000.0</td>\n",
       "      <td>180921.19589</td>\n",
       "      <td>180921.19589</td>\n",
       "      <td>755000.0</td>\n",
       "    </tr>\n",
       "  </tbody>\n",
       "</table>\n",
       "</div>"
      ],
      "text/plain": [
       "               count           mean           std      min       25%  \\\n",
       "MSSubClass    2913.0      57.190182     42.538067     20.0      20.0   \n",
       "LotArea       2913.0   10137.665980   7832.598853   1300.0    7476.0   \n",
       "OverallCond   2913.0       5.566770      1.108977      1.0       5.0   \n",
       "YearBuilt     2913.0    1971.391349     30.258751   1872.0    1954.0   \n",
       "YearRemodAdd  2913.0    1984.314452     20.864950   1950.0    1965.0   \n",
       "BsmtFinSF2    2913.0      49.667353    169.338330      0.0       0.0   \n",
       "TotalBsmtSF   2913.0    1052.805012    439.688510      0.0     793.0   \n",
       "SalePrice     2913.0  180921.195890  56232.174632  34900.0  163000.0   \n",
       "\n",
       "                       50%           75%       max  \n",
       "MSSubClass        50.00000      70.00000     190.0  \n",
       "LotArea         9450.00000   11553.00000  215245.0  \n",
       "OverallCond        5.00000       6.00000       9.0  \n",
       "YearBuilt       1973.00000    2001.00000    2010.0  \n",
       "YearRemodAdd    1993.00000    2004.00000    2010.0  \n",
       "BsmtFinSF2         0.00000       0.00000    1526.0  \n",
       "TotalBsmtSF      990.00000    1302.00000    6110.0  \n",
       "SalePrice     180921.19589  180921.19589  755000.0  "
      ]
     },
     "execution_count": 16,
     "metadata": {},
     "output_type": "execute_result"
    }
   ],
   "source": [
    "#Calling new_housing_data's `describe` method for a statistical summary of the numerical columns\n",
    "#Hint: there are fewer summary stat columns than features, so displaying the transpose\n",
    "#will be useful again\n",
    "new_housing_data.describe().T"
   ]
  },
  {
   "cell_type": "code",
   "execution_count": null,
   "id": "91fe2a4b-3f03-4043-ba92-c8ade1373241",
   "metadata": {},
   "outputs": [],
   "source": [
    "#Distributions Of Feature Values"
   ]
  },
  {
   "cell_type": "code",
   "execution_count": 17,
   "id": "433568f7-4800-426c-a7c8-4fe01c24de69",
   "metadata": {},
   "outputs": [
    {
     "data": {
      "image/png": "[encoded data removed]",
      "text/plain": [
       "<Figure size 1500x1000 with 9 Axes>"
      ]
     },
     "metadata": {},
     "output_type": "display_data"
    }
   ],
   "source": [
    "#Calling new_housing_data's `hist` method to plot histograms of each of the numeric features\n",
    "#Try passing it an argument figsize=(15,10)\n",
    "#Try calling plt.subplots_adjust() with an argument hspace=0.5 to adjust the spacing\n",
    "#It's important you create legible and easy-to-read plots\n",
    "new_housing_data.hist(figsize=(15,10))\n",
    "plt.subplots_adjust(hspace=0.5);\n",
    "#Hint: notice how the terminating ';' \"swallows\" some messy output and leads to a tidier notebook"
   ]
  },
  {
   "cell_type": "code",
   "execution_count": 19,
   "id": "47452198-8661-4848-aa91-907b2271371b",
   "metadata": {},
   "outputs": [
    {
     "name": "stdout",
     "output_type": "stream",
     "text": [
      "<class 'pandas.core.frame.DataFrame'>\n",
      "Index: 2913 entries, 0 to 2918\n",
      "Data columns (total 12 columns):\n",
      " #   Column        Non-Null Count  Dtype  \n",
      "---  ------        --------------  -----  \n",
      " 0   MSSubClass    2913 non-null   int64  \n",
      " 1   MSZoning      2913 non-null   object \n",
      " 2   LotArea       2913 non-null   int64  \n",
      " 3   LotConfig     2913 non-null   object \n",
      " 4   BldgType      2913 non-null   object \n",
      " 5   OverallCond   2913 non-null   int64  \n",
      " 6   YearBuilt     2913 non-null   int64  \n",
      " 7   YearRemodAdd  2913 non-null   int64  \n",
      " 8   Exterior1st   2913 non-null   object \n",
      " 9   BsmtFinSF2    2913 non-null   float64\n",
      " 10  TotalBsmtSF   2913 non-null   float64\n",
      " 11  SalePrice     2913 non-null   float64\n",
      "dtypes: float64(3), int64(5), object(4)\n",
      "memory usage: 295.9+ KB\n"
     ]
    }
   ],
   "source": [
    "#Checking data types of columns.\n",
    "new_housing_data.info()"
   ]
  },
  {
   "cell_type": "code",
   "execution_count": 20,
   "id": "e1955532-8f62-40e2-abe3-e0fa7d597f55",
   "metadata": {},
   "outputs": [
    {
     "name": "stdout",
     "output_type": "stream",
     "text": [
      "Directory /data was created.\n",
      "Writing file.  \"/data\\new_housing_data_cleaned.csv\"\n"
     ]
    }
   ],
   "source": [
    "#saving the data to a new csv file,save_file utility only supports csv file, due to thsi saving in csv file.\n",
    "datapath = '/data'\n",
    "save_file(new_housing_data, 'new_housing_data_cleaned.csv', datapath)"
   ]
  },
  {
   "cell_type": "code",
   "execution_count": null,
   "id": "7ddbe742-475c-4e9c-a72c-3c4f8d3c6003",
   "metadata": {},
   "outputs": [],
   "source": []
  }
 ],
 "metadata": {
  "kernelspec": {
   "display_name": "Python [conda env:base] *",
   "language": "python",
   "name": "conda-base-py"
  },
  "language_info": {
   "codemirror_mode": {
    "name": "ipython",
    "version": 3
   },
   "file_extension": ".py",
   "mimetype": "text/x-python",
   "name": "python",
   "nbconvert_exporter": "python",
   "pygments_lexer": "ipython3",
   "version": "3.12.7"
  }
 },
 "nbformat": 4,
 "nbformat_minor": 5
}
