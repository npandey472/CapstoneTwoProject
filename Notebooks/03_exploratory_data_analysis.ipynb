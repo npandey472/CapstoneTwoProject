{
 "cells": [
  {
   "cell_type": "code",
   "execution_count": null,
   "id": "120d12aa-1ce9-4431-bc07-31306dfc0b36",
   "metadata": {},
   "outputs": [],
   "source": [
    "#Capstone Project - TWO\n",
    "#House Price Prediction"
   ]
  },
  {
   "cell_type": "code",
   "execution_count": 1,
   "id": "e42646e6-b86b-4b88-bdb9-e5488007c608",
   "metadata": {},
   "outputs": [],
   "source": [
    "# Importing libraries for Python code.\n",
    "import pandas as pd\n",
    "import numpy as np\n",
    "import os\n",
    "import matplotlib.pyplot as plt\n",
    "import seaborn as sns\n",
    "from sklearn.decomposition import PCA\n",
    "from sklearn.preprocessing import scale\n",
    "\n",
    "from library.sb_utils import save_file"
   ]
  },
  {
   "cell_type": "code",
   "execution_count": 2,
   "id": "b9afb93c-f00f-4427-b4d4-89aaed03999c",
   "metadata": {},
   "outputs": [],
   "source": [
    "# Loading data to use in this excercies.\n",
    "housing_data = pd.read_csv('/data/new_housing_data_cleaned.csv')"
   ]
  },
  {
   "cell_type": "code",
   "execution_count": 3,
   "id": "5cb8ea45-466c-4510-8e4f-01bc91d696a1",
   "metadata": {},
   "outputs": [
    {
     "data": {
      "text/plain": [
       "<bound method DataFrame.info of       MSSubClass MSZoning  LotArea LotConfig BldgType  OverallCond  YearBuilt  \\\n",
       "0             60       RL     8450    Inside     1Fam            5       2003   \n",
       "1             20       RL     9600       FR2     1Fam            8       1976   \n",
       "2             60       RL    11250    Inside     1Fam            5       2001   \n",
       "3             70       RL     9550    Corner     1Fam            5       1915   \n",
       "4             60       RL    14260       FR2     1Fam            5       2000   \n",
       "...          ...      ...      ...       ...      ...          ...        ...   \n",
       "2908         160       RM     1936    Inside    Twnhs            7       1970   \n",
       "2909         160       RM     1894    Inside   TwnhsE            5       1970   \n",
       "2910          20       RL    20000    Inside     1Fam            7       1960   \n",
       "2911          85       RL    10441    Inside     1Fam            5       1992   \n",
       "2912          60       RL     9627    Inside     1Fam            5       1993   \n",
       "\n",
       "      YearRemodAdd Exterior1st  BsmtFinSF2  TotalBsmtSF     SalePrice  \n",
       "0             2003     VinylSd         0.0        856.0  208500.00000  \n",
       "1             1976     MetalSd         0.0       1262.0  181500.00000  \n",
       "2             2002     VinylSd         0.0        920.0  223500.00000  \n",
       "3             1970     Wd Sdng         0.0        756.0  140000.00000  \n",
       "4             2000     VinylSd         0.0       1145.0  250000.00000  \n",
       "...            ...         ...         ...          ...           ...  \n",
       "2908          1970     CemntBd         0.0        546.0  180921.19589  \n",
       "2909          1970     CemntBd         0.0        546.0  180921.19589  \n",
       "2910          1996     VinylSd         0.0       1224.0  180921.19589  \n",
       "2911          1992     HdBoard         0.0        912.0  180921.19589  \n",
       "2912          1994     HdBoard         0.0        996.0  180921.19589  \n",
       "\n",
       "[2913 rows x 12 columns]>"
      ]
     },
     "execution_count": 3,
     "metadata": {},
     "output_type": "execute_result"
    }
   ],
   "source": [
    "#Calling the info method on housing_data to see a summary of the data\n",
    "housing_data.info"
   ]
  },
  {
   "cell_type": "code",
   "execution_count": 4,
   "id": "bf6390ab-545d-4c20-a22c-0c9bd6f05ae5",
   "metadata": {},
   "outputs": [
    {
     "data": {
      "text/html": [
       "<div>\n",
       "<style scoped>\n",
       "    .dataframe tbody tr th:only-of-type {\n",
       "        vertical-align: middle;\n",
       "    }\n",
       "\n",
       "    .dataframe tbody tr th {\n",
       "        vertical-align: top;\n",
       "    }\n",
       "\n",
       "    .dataframe thead th {\n",
       "        text-align: right;\n",
       "    }\n",
       "</style>\n",
       "<table border=\"1\" class=\"dataframe\">\n",
       "  <thead>\n",
       "    <tr style=\"text-align: right;\">\n",
       "      <th></th>\n",
       "      <th>MSSubClass</th>\n",
       "      <th>MSZoning</th>\n",
       "      <th>LotArea</th>\n",
       "      <th>LotConfig</th>\n",
       "      <th>BldgType</th>\n",
       "      <th>OverallCond</th>\n",
       "      <th>YearBuilt</th>\n",
       "      <th>YearRemodAdd</th>\n",
       "      <th>Exterior1st</th>\n",
       "      <th>BsmtFinSF2</th>\n",
       "      <th>TotalBsmtSF</th>\n",
       "      <th>SalePrice</th>\n",
       "    </tr>\n",
       "  </thead>\n",
       "  <tbody>\n",
       "    <tr>\n",
       "      <th>0</th>\n",
       "      <td>60</td>\n",
       "      <td>RL</td>\n",
       "      <td>8450</td>\n",
       "      <td>Inside</td>\n",
       "      <td>1Fam</td>\n",
       "      <td>5</td>\n",
       "      <td>2003</td>\n",
       "      <td>2003</td>\n",
       "      <td>VinylSd</td>\n",
       "      <td>0.0</td>\n",
       "      <td>856.0</td>\n",
       "      <td>208500.0</td>\n",
       "    </tr>\n",
       "    <tr>\n",
       "      <th>1</th>\n",
       "      <td>20</td>\n",
       "      <td>RL</td>\n",
       "      <td>9600</td>\n",
       "      <td>FR2</td>\n",
       "      <td>1Fam</td>\n",
       "      <td>8</td>\n",
       "      <td>1976</td>\n",
       "      <td>1976</td>\n",
       "      <td>MetalSd</td>\n",
       "      <td>0.0</td>\n",
       "      <td>1262.0</td>\n",
       "      <td>181500.0</td>\n",
       "    </tr>\n",
       "    <tr>\n",
       "      <th>2</th>\n",
       "      <td>60</td>\n",
       "      <td>RL</td>\n",
       "      <td>11250</td>\n",
       "      <td>Inside</td>\n",
       "      <td>1Fam</td>\n",
       "      <td>5</td>\n",
       "      <td>2001</td>\n",
       "      <td>2002</td>\n",
       "      <td>VinylSd</td>\n",
       "      <td>0.0</td>\n",
       "      <td>920.0</td>\n",
       "      <td>223500.0</td>\n",
       "    </tr>\n",
       "    <tr>\n",
       "      <th>3</th>\n",
       "      <td>70</td>\n",
       "      <td>RL</td>\n",
       "      <td>9550</td>\n",
       "      <td>Corner</td>\n",
       "      <td>1Fam</td>\n",
       "      <td>5</td>\n",
       "      <td>1915</td>\n",
       "      <td>1970</td>\n",
       "      <td>Wd Sdng</td>\n",
       "      <td>0.0</td>\n",
       "      <td>756.0</td>\n",
       "      <td>140000.0</td>\n",
       "    </tr>\n",
       "    <tr>\n",
       "      <th>4</th>\n",
       "      <td>60</td>\n",
       "      <td>RL</td>\n",
       "      <td>14260</td>\n",
       "      <td>FR2</td>\n",
       "      <td>1Fam</td>\n",
       "      <td>5</td>\n",
       "      <td>2000</td>\n",
       "      <td>2000</td>\n",
       "      <td>VinylSd</td>\n",
       "      <td>0.0</td>\n",
       "      <td>1145.0</td>\n",
       "      <td>250000.0</td>\n",
       "    </tr>\n",
       "  </tbody>\n",
       "</table>\n",
       "</div>"
      ],
      "text/plain": [
       "   MSSubClass MSZoning  LotArea LotConfig BldgType  OverallCond  YearBuilt  \\\n",
       "0          60       RL     8450    Inside     1Fam            5       2003   \n",
       "1          20       RL     9600       FR2     1Fam            8       1976   \n",
       "2          60       RL    11250    Inside     1Fam            5       2001   \n",
       "3          70       RL     9550    Corner     1Fam            5       1915   \n",
       "4          60       RL    14260       FR2     1Fam            5       2000   \n",
       "\n",
       "   YearRemodAdd Exterior1st  BsmtFinSF2  TotalBsmtSF  SalePrice  \n",
       "0          2003     VinylSd         0.0        856.0   208500.0  \n",
       "1          1976     MetalSd         0.0       1262.0   181500.0  \n",
       "2          2002     VinylSd         0.0        920.0   223500.0  \n",
       "3          1970     Wd Sdng         0.0        756.0   140000.0  \n",
       "4          2000     VinylSd         0.0       1145.0   250000.0  "
      ]
     },
     "execution_count": 4,
     "metadata": {},
     "output_type": "execute_result"
    }
   ],
   "source": [
    "#Calling the head method on housing_data to print the first several rows of the data\n",
    "#Checking the first 5 rows of data for 'housing_data' to get idea about the data.\n",
    "housing_data.head()"
   ]
  },
  {
   "cell_type": "code",
   "execution_count": 5,
   "id": "2f6a01d1-641f-41b6-a559-38716689dda0",
   "metadata": {},
   "outputs": [
    {
     "data": {
      "text/plain": [
       "(2913, 12)"
      ]
     },
     "execution_count": 5,
     "metadata": {},
     "output_type": "execute_result"
    }
   ],
   "source": [
    "#Checking rows and columns of the dataset\n",
    "housing_data.shape"
   ]
  },
  {
   "cell_type": "code",
   "execution_count": 6,
   "id": "5dd2439a-37c7-4f98-be14-66e660852c24",
   "metadata": {},
   "outputs": [
    {
     "data": {
      "text/plain": [
       "MSSubClass      0\n",
       "MSZoning        0\n",
       "LotArea         0\n",
       "LotConfig       0\n",
       "BldgType        0\n",
       "OverallCond     0\n",
       "YearBuilt       0\n",
       "YearRemodAdd    0\n",
       "Exterior1st     0\n",
       "BsmtFinSF2      0\n",
       "TotalBsmtSF     0\n",
       "SalePrice       0\n",
       "dtype: int64"
      ]
     },
     "execution_count": 6,
     "metadata": {},
     "output_type": "execute_result"
    }
   ],
   "source": [
    "#Checking which records still have null values, if any.\n",
    "housing_data.isnull().sum()"
   ]
  },
  {
   "cell_type": "code",
   "execution_count": null,
   "id": "1aecc2c5-6f0c-4cda-a352-f4a1483d4fc9",
   "metadata": {},
   "outputs": [],
   "source": []
  }
 ],
 "metadata": {
  "kernelspec": {
   "display_name": "Python [conda env:base] *",
   "language": "python",
   "name": "conda-base-py"
  },
  "language_info": {
   "codemirror_mode": {
    "name": "ipython",
    "version": 3
   },
   "file_extension": ".py",
   "mimetype": "text/x-python",
   "name": "python",
   "nbconvert_exporter": "python",
   "pygments_lexer": "ipython3",
   "version": "3.12.7"
  }
 },
 "nbformat": 4,
 "nbformat_minor": 5
}
